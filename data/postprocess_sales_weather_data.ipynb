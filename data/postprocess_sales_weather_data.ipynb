{
 "cells": [
  {
   "cell_type": "code",
   "execution_count": 1,
   "metadata": {},
   "outputs": [],
   "source": [
    "import pandas as pd\n",
    "import matplotlib.pyplot as plt\n",
    "import numpy as np\n",
    "import datetime\n",
    "\n",
    "df_sales = pd.read_csv('processed/oct_cafe_sales_output.csv')\n",
    "df_temp_prec = pd.read_csv('processed/2022_weather_data.csv')\n",
    "\n",
    "# Make datetime format consistent between dataframes\n",
    "df_sales['datetime'] =  pd.to_datetime(df_sales['datetime'],format=\"%d/%m/%Y\")\n",
    "df_temp_prec['datetime'] =  pd.to_datetime(df_temp_prec['datetime'],format=\"%Y/%m/%d\")\n",
    "\n",
    "# Join by datetime\n",
    "df_sales.join(df_temp_prec.set_index('datetime'), on='datetime')\n",
    "df_sales.to_csv('processed/joined_weather_sales_data.csv')"
   ]
  }
 ],
 "metadata": {
  "kernelspec": {
   "display_name": "base",
   "language": "python",
   "name": "python3"
  },
  "language_info": {
   "codemirror_mode": {
    "name": "ipython",
    "version": 3
   },
   "file_extension": ".py",
   "mimetype": "text/x-python",
   "name": "python",
   "nbconvert_exporter": "python",
   "pygments_lexer": "ipython3",
   "version": "3.9.13"
  },
  "orig_nbformat": 4,
  "vscode": {
   "interpreter": {
    "hash": "bed8b4d2a7f545223e2b175b3e6ae5858cf9cb92b59e84be28e78fb47cfc32ab"
   }
  }
 },
 "nbformat": 4,
 "nbformat_minor": 2
}
