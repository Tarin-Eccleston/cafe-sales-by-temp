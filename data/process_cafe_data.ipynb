{
 "cells": [
  {
   "cell_type": "code",
   "execution_count": 3,
   "metadata": {},
   "outputs": [],
   "source": [
    "import pandas as pd\n",
    "import numpy as np\n",
    "\n",
    "# Data sourced from my Auntie's Cafe's Wongnai POS\n",
    "df = pd.read_csv('raw/input.csv')\n",
    "\n",
    "# Remove any rows with null values\n",
    "df = df.dropna(how='any',axis=0) \n",
    "\n",
    "df.astype({'quantity': 'int32'}).dtypes\n",
    "\n",
    "# Group hot and cold drink sales\n",
    "df['hot_drink_sale'] = np.where(df[\"Category\"] == \"Hot\", df[\"quantity\"], 0)\n",
    "df['iced_drink_sale'] = np.where(df[\"Category\"] == \"Iced\", df[\"quantity\"], 0)\n",
    "df['frappe_drink_sale'] = np.where(df[\"Category\"] == \"Frappe\", df[\"quantity\"], 0)\n",
    "df['other'] = np.where((df[\"Category\"] != \"Hot\") & (df[\"Category\"] != \"Iced\") & (df[\"Category\"] != \"Frappe\"), df[\"quantity\"], 0)\n",
    "\n",
    "# Rearrange cols\n",
    "df = df[['payment date','quantity','hot_drink_sale','iced_drink_sale','frappe_drink_sale','other','net price']]\n",
    "#print(df.to_string()) \n",
    "\n",
    "df2 = df.groupby(['payment date']).sum()\n",
    "#print(df2.to_string())\n",
    "df2.to_csv('processed/output.csv')"
   ]
  }
 ],
 "metadata": {
  "kernelspec": {
   "display_name": "base",
   "language": "python",
   "name": "python3"
  },
  "language_info": {
   "codemirror_mode": {
    "name": "ipython",
    "version": 3
   },
   "file_extension": ".py",
   "mimetype": "text/x-python",
   "name": "python",
   "nbconvert_exporter": "python",
   "pygments_lexer": "ipython3",
   "version": "3.9.13 (main, Aug 25 2022, 18:29:29) \n[Clang 12.0.0 ]"
  },
  "orig_nbformat": 4,
  "vscode": {
   "interpreter": {
    "hash": "bed8b4d2a7f545223e2b175b3e6ae5858cf9cb92b59e84be28e78fb47cfc32ab"
   }
  }
 },
 "nbformat": 4,
 "nbformat_minor": 2
}
