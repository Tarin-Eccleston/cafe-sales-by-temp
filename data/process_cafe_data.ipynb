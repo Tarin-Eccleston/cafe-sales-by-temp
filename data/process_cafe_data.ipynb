{
 "cells": [
  {
   "cell_type": "code",
   "execution_count": 14,
   "metadata": {},
   "outputs": [
    {
     "name": "stdout",
     "output_type": "stream",
     "text": [
      "              quantity  hot_drink_sale  iced_drink_sale  frappe_drink_sale  other  net price\n",
      "payment date                                                                                \n",
      "01/10/2022          87               6               60                 11     10     4620.0\n",
      "02/10/2022          75               4               48                 10     13     4170.0\n",
      "03/10/2022         109               3               64                  7     35     4905.0\n",
      "04/10/2022         113               8               71                 13     21     5645.0\n",
      "05/10/2022          91               6               59                 14     12     4827.0\n",
      "06/10/2022          67               4               45                  4     14     3440.0\n",
      "07/10/2022          79               2               52                 14     11     4387.0\n",
      "08/10/2022          53               7               28                  6     12     2515.0\n",
      "09/10/2022          60               3               37                 10     10     3160.0\n",
      "10/10/2022          73               8               45                 11      9     3835.0\n",
      "11/10/2022          70               8               45                  9      8     3730.0\n",
      "12/10/2022         105              13               52                 14     26     5005.0\n",
      "13/10/2022          72               5               42                 15     10     3950.0\n",
      "14/10/2022          57               5               28                  6     18     2465.0\n",
      "15/10/2022          41              10               22                  3      6     1985.0\n",
      "16/10/2022          80               5               46                  5     24     3830.0\n",
      "17/10/2022          67               8               44                  4     11     3415.0\n",
      "18/10/2022          74               8               58                  7      1     4070.0\n",
      "19/10/2022          66               8               38                  3     17     3050.0\n",
      "20/10/2022          56               7               33                  6     10     2760.0\n",
      "21/10/2022          56               9               31                  6     10     2962.0\n",
      "22/10/2022          65               4               35                  6     20     2965.0\n",
      "23/10/2022          75               1               47                  5     22     3554.0\n",
      "24/10/2022          62               3               41                  3     15     3010.0\n",
      "25/10/2022          50               7               29                  4     10     2324.0\n",
      "26/10/2022          87               9               48                 10     20     4289.0\n",
      "27/10/2022          68               7               39                  4     18     3289.0\n",
      "28/10/2022          65               7               43                  4     11     3125.0\n",
      "29/10/2022          89              15               41                 10     23     4407.0\n",
      "30/10/2022          69               4               42                  7     16     3435.0\n",
      "31/10/2022          79               9               51                  9     10     4095.0\n"
     ]
    }
   ],
   "source": [
    "import pandas as pd\n",
    "import numpy as np\n",
    "\n",
    "# Data sourced from my Auntie's Cafe's Wongnai POS\n",
    "df = pd.read_csv('raw/input.csv')\n",
    "\n",
    "# Remove any rows with null values\n",
    "# df = df.dropna(how='any',axis=0) \n",
    "\n",
    "df.astype({'quantity': 'int32'}).dtypes\n",
    "df.astype({'payment date': 'datetime64[ns]'})\n",
    "\n",
    "# Group hot and cold drink sales\n",
    "df['hot_drink_sale'] = np.where(df[\"Category\"] == \"Hot\", df[\"quantity\"], 0)\n",
    "df['iced_drink_sale'] = np.where(df[\"Category\"] == \"Iced\", df[\"quantity\"], 0)\n",
    "df['frappe_drink_sale'] = np.where(df[\"Category\"] == \"Frappe\", df[\"quantity\"], 0)\n",
    "df['other'] = np.where((df[\"Category\"] != \"Hot\") & (df[\"Category\"] != \"Iced\") & (df[\"Category\"] != \"Frappe\"), df[\"quantity\"], 0)\n",
    "\n",
    "# Rearrange cols\n",
    "df = df[['payment date','quantity','hot_drink_sale','iced_drink_sale','frappe_drink_sale','other','net price']]\n",
    "#print(df.to_string()) \n",
    "\n",
    "df2 = df.groupby(['payment date']).sum()\n",
    "df2.to_csv('processed/output.csv')\n",
    "print(df2.to_string())"
   ]
  }
 ],
 "metadata": {
  "kernelspec": {
   "display_name": "base",
   "language": "python",
   "name": "python3"
  },
  "language_info": {
   "codemirror_mode": {
    "name": "ipython",
    "version": 3
   },
   "file_extension": ".py",
   "mimetype": "text/x-python",
   "name": "python",
   "nbconvert_exporter": "python",
   "pygments_lexer": "ipython3",
   "version": "3.8.5"
  },
  "orig_nbformat": 4,
  "vscode": {
   "interpreter": {
    "hash": "ad2bdc8ecc057115af97d19610ffacc2b4e99fae6737bb82f5d7fb13d2f2c186"
   }
  }
 },
 "nbformat": 4,
 "nbformat_minor": 2
}
