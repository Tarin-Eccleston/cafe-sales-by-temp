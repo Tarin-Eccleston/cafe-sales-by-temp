{
 "cells": [
  {
   "cell_type": "code",
   "execution_count": 2,
   "metadata": {},
   "outputs": [],
   "source": [
    "# Note: This weather station is in Roi Et, which is 70km away from the Cafe\n",
    "# Both locations are geographically quite similar however this needs to be accounted for\n",
    "# in any inaccuracies\n",
    " \n",
    "import pandas as pd\n",
    "import numpy as np\n",
    "\n",
    "df_temp = pd.read_excel(r'raw/climate_past_a_temp.xlsx')\n",
    "df_prec = pd.read_excel('raw/climate_past_s_prec.xlsx')\n",
    "\n",
    "\n",
    "\n",
    "\n",
    "\n"
   ]
  }
 ],
 "metadata": {
  "kernelspec": {
   "display_name": "base",
   "language": "python",
   "name": "python3"
  },
  "language_info": {
   "codemirror_mode": {
    "name": "ipython",
    "version": 3
   },
   "file_extension": ".py",
   "mimetype": "text/x-python",
   "name": "python",
   "nbconvert_exporter": "python",
   "pygments_lexer": "ipython3",
   "version": "3.8.5"
  },
  "orig_nbformat": 4,
  "vscode": {
   "interpreter": {
    "hash": "ad2bdc8ecc057115af97d19610ffacc2b4e99fae6737bb82f5d7fb13d2f2c186"
   }
  }
 },
 "nbformat": 4,
 "nbformat_minor": 2
}
