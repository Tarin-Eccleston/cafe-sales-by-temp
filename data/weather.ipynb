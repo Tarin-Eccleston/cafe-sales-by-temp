{
 "cells": [
  {
   "cell_type": "code",
   "execution_count": 23,
   "metadata": {},
   "outputs": [],
   "source": [
    "# Note: This weather station is in Roi Et, which is 70km away from the Cafe\n",
    "# Both locations are geographically quite similar however this needs to be accounted for\n",
    "# in any inaccuracies\n",
    " \n",
    "import pandas as pd\n",
    "import numpy as np\n",
    "import datetime\n",
    "\n",
    "df_temp = pd.read_excel('raw/climate_past_a_temp.xlsx')\n",
    "df_prec = pd.read_excel('raw/climate_past_s_prec.xlsx')\n",
    "\n",
    "temp_data = []\n",
    "date_data = []\n",
    "\n",
    "date_counter = datetime.datetime(2022, 1, 1)\n",
    "\n",
    "date_in_month_2022 = [31,28,31,30,31,30,31,31,30,31,30,31]\n",
    "\n",
    "for i in range(12):\n",
    "    for j in range(date_in_month_2022[i]):\n",
    "        date_data.append(date_counter);\n",
    "        date_counter += datetime.timedelta(days=1)\n",
    "        \n",
    "        if df_temp.iloc[2+j][1+i] != '\\xa0-':\n",
    "            temp_data.append(float(df_temp.iloc[2+j][1+i]))\n",
    "        else:\n",
    "            temp_data.append(float(df_temp.iloc[2+31][1+i]))\n",
    "\n",
    "d = {'datetime' : date_data,\"temp_data\" : temp_data}\n",
    "df_temp_prec_output = pd.DataFrame(data = d)\n",
    "\n",
    "\n",
    "\n",
    "\n"
   ]
  }
 ],
 "metadata": {
  "kernelspec": {
   "display_name": "base",
   "language": "python",
   "name": "python3"
  },
  "language_info": {
   "codemirror_mode": {
    "name": "ipython",
    "version": 3
   },
   "file_extension": ".py",
   "mimetype": "text/x-python",
   "name": "python",
   "nbconvert_exporter": "python",
   "pygments_lexer": "ipython3",
   "version": "3.8.5"
  },
  "orig_nbformat": 4,
  "vscode": {
   "interpreter": {
    "hash": "ad2bdc8ecc057115af97d19610ffacc2b4e99fae6737bb82f5d7fb13d2f2c186"
   }
  }
 },
 "nbformat": 4,
 "nbformat_minor": 2
}
